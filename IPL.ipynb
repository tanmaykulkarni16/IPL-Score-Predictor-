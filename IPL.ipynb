{
 "cells": [
  {
   "cell_type": "code",
   "execution_count": 39,
   "id": "23357ce5-e0bb-4111-828f-9e5785ab5f22",
   "metadata": {},
   "outputs": [],
   "source": [
    "import pandas as pd\n",
    "import numpy as np\n",
    "import matplotlib.pyplot as plt\n",
    "import seaborn as sns\n",
    "from sklearn import preprocessing\n",
    "import keras \n",
    "import tensorflow as tf"
   ]
  },
  {
   "cell_type": "code",
   "execution_count": 41,
   "id": "1b73e94b-c3a6-4821-b8b4-97cb98998146",
   "metadata": {},
   "outputs": [
    {
     "data": {
      "text/html": [
       "<div>\n",
       "<style scoped>\n",
       "    .dataframe tbody tr th:only-of-type {\n",
       "        vertical-align: middle;\n",
       "    }\n",
       "\n",
       "    .dataframe tbody tr th {\n",
       "        vertical-align: top;\n",
       "    }\n",
       "\n",
       "    .dataframe thead th {\n",
       "        text-align: right;\n",
       "    }\n",
       "</style>\n",
       "<table border=\"1\" class=\"dataframe\">\n",
       "  <thead>\n",
       "    <tr style=\"text-align: right;\">\n",
       "      <th></th>\n",
       "      <th>mid</th>\n",
       "      <th>date</th>\n",
       "      <th>venue</th>\n",
       "      <th>bat_team</th>\n",
       "      <th>bowl_team</th>\n",
       "      <th>batsman</th>\n",
       "      <th>bowler</th>\n",
       "      <th>runs</th>\n",
       "      <th>wickets</th>\n",
       "      <th>overs</th>\n",
       "      <th>runs_last_5</th>\n",
       "      <th>wickets_last_5</th>\n",
       "      <th>striker</th>\n",
       "      <th>non-striker</th>\n",
       "      <th>total</th>\n",
       "    </tr>\n",
       "  </thead>\n",
       "  <tbody>\n",
       "    <tr>\n",
       "      <th>0</th>\n",
       "      <td>1</td>\n",
       "      <td>2008-04-18</td>\n",
       "      <td>M Chinnaswamy Stadium</td>\n",
       "      <td>Kolkata Knight Riders</td>\n",
       "      <td>Royal Challengers Bangalore</td>\n",
       "      <td>SC Ganguly</td>\n",
       "      <td>P Kumar</td>\n",
       "      <td>1</td>\n",
       "      <td>0</td>\n",
       "      <td>0.1</td>\n",
       "      <td>1</td>\n",
       "      <td>0</td>\n",
       "      <td>0</td>\n",
       "      <td>0</td>\n",
       "      <td>222</td>\n",
       "    </tr>\n",
       "    <tr>\n",
       "      <th>1</th>\n",
       "      <td>1</td>\n",
       "      <td>2008-04-18</td>\n",
       "      <td>M Chinnaswamy Stadium</td>\n",
       "      <td>Kolkata Knight Riders</td>\n",
       "      <td>Royal Challengers Bangalore</td>\n",
       "      <td>BB McCullum</td>\n",
       "      <td>P Kumar</td>\n",
       "      <td>1</td>\n",
       "      <td>0</td>\n",
       "      <td>0.2</td>\n",
       "      <td>1</td>\n",
       "      <td>0</td>\n",
       "      <td>0</td>\n",
       "      <td>0</td>\n",
       "      <td>222</td>\n",
       "    </tr>\n",
       "    <tr>\n",
       "      <th>2</th>\n",
       "      <td>1</td>\n",
       "      <td>2008-04-18</td>\n",
       "      <td>M Chinnaswamy Stadium</td>\n",
       "      <td>Kolkata Knight Riders</td>\n",
       "      <td>Royal Challengers Bangalore</td>\n",
       "      <td>BB McCullum</td>\n",
       "      <td>P Kumar</td>\n",
       "      <td>2</td>\n",
       "      <td>0</td>\n",
       "      <td>0.2</td>\n",
       "      <td>2</td>\n",
       "      <td>0</td>\n",
       "      <td>0</td>\n",
       "      <td>0</td>\n",
       "      <td>222</td>\n",
       "    </tr>\n",
       "    <tr>\n",
       "      <th>3</th>\n",
       "      <td>1</td>\n",
       "      <td>2008-04-18</td>\n",
       "      <td>M Chinnaswamy Stadium</td>\n",
       "      <td>Kolkata Knight Riders</td>\n",
       "      <td>Royal Challengers Bangalore</td>\n",
       "      <td>BB McCullum</td>\n",
       "      <td>P Kumar</td>\n",
       "      <td>2</td>\n",
       "      <td>0</td>\n",
       "      <td>0.3</td>\n",
       "      <td>2</td>\n",
       "      <td>0</td>\n",
       "      <td>0</td>\n",
       "      <td>0</td>\n",
       "      <td>222</td>\n",
       "    </tr>\n",
       "    <tr>\n",
       "      <th>4</th>\n",
       "      <td>1</td>\n",
       "      <td>2008-04-18</td>\n",
       "      <td>M Chinnaswamy Stadium</td>\n",
       "      <td>Kolkata Knight Riders</td>\n",
       "      <td>Royal Challengers Bangalore</td>\n",
       "      <td>BB McCullum</td>\n",
       "      <td>P Kumar</td>\n",
       "      <td>2</td>\n",
       "      <td>0</td>\n",
       "      <td>0.4</td>\n",
       "      <td>2</td>\n",
       "      <td>0</td>\n",
       "      <td>0</td>\n",
       "      <td>0</td>\n",
       "      <td>222</td>\n",
       "    </tr>\n",
       "  </tbody>\n",
       "</table>\n",
       "</div>"
      ],
      "text/plain": [
       "   mid        date                  venue               bat_team  \\\n",
       "0    1  2008-04-18  M Chinnaswamy Stadium  Kolkata Knight Riders   \n",
       "1    1  2008-04-18  M Chinnaswamy Stadium  Kolkata Knight Riders   \n",
       "2    1  2008-04-18  M Chinnaswamy Stadium  Kolkata Knight Riders   \n",
       "3    1  2008-04-18  M Chinnaswamy Stadium  Kolkata Knight Riders   \n",
       "4    1  2008-04-18  M Chinnaswamy Stadium  Kolkata Knight Riders   \n",
       "\n",
       "                     bowl_team      batsman   bowler  runs  wickets  overs  \\\n",
       "0  Royal Challengers Bangalore   SC Ganguly  P Kumar     1        0    0.1   \n",
       "1  Royal Challengers Bangalore  BB McCullum  P Kumar     1        0    0.2   \n",
       "2  Royal Challengers Bangalore  BB McCullum  P Kumar     2        0    0.2   \n",
       "3  Royal Challengers Bangalore  BB McCullum  P Kumar     2        0    0.3   \n",
       "4  Royal Challengers Bangalore  BB McCullum  P Kumar     2        0    0.4   \n",
       "\n",
       "   runs_last_5  wickets_last_5  striker  non-striker  total  \n",
       "0            1               0        0            0    222  \n",
       "1            1               0        0            0    222  \n",
       "2            2               0        0            0    222  \n",
       "3            2               0        0            0    222  \n",
       "4            2               0        0            0    222  "
      ]
     },
     "execution_count": 41,
     "metadata": {},
     "output_type": "execute_result"
    }
   ],
   "source": [
    "ipl = pd.read_csv('ipl_data.csv')\n",
    "ipl.head()"
   ]
  },
  {
   "cell_type": "code",
   "execution_count": 43,
   "id": "285c8cf5-84ff-43e9-9c70-f1399b14c164",
   "metadata": {},
   "outputs": [],
   "source": [
    "#Dropping certain features \n",
    "df = ipl.drop(['date', 'runs', 'wickets', 'overs', 'runs_last_5', 'wickets_last_5','mid', 'striker', 'non-striker'], axis =1)"
   ]
  },
  {
   "cell_type": "code",
   "execution_count": 45,
   "id": "822cc60b-e775-49f4-99a8-392e1134d332",
   "metadata": {},
   "outputs": [],
   "source": [
    "X = df.drop(['total'], axis =1)\n",
    "y = df['total']"
   ]
  },
  {
   "cell_type": "code",
   "execution_count": 47,
   "id": "100cca4a-7db0-433f-9cc4-8556dd8116fd",
   "metadata": {},
   "outputs": [],
   "source": [
    "#Label Encoding\n",
    "\n",
    "from sklearn.preprocessing import LabelEncoder\n",
    "\n",
    "# Create a LabelEncoder object for each categorical feature\n",
    "venue_encoder = LabelEncoder()\n",
    "batting_team_encoder = LabelEncoder()\n",
    "bowling_team_encoder = LabelEncoder()\n",
    "striker_encoder = LabelEncoder()\n",
    "bowler_encoder = LabelEncoder()\n",
    "\n",
    "# Fit and transform the categorical features with label encoding\n",
    "X['venue'] = venue_encoder.fit_transform(X['venue'])\n",
    "X['bat_team'] = batting_team_encoder.fit_transform(X['bat_team'])\n",
    "X['bowl_team'] = bowling_team_encoder.fit_transform(X['bowl_team'])\n",
    "X['batsman'] = striker_encoder.fit_transform(X['batsman'])\n",
    "X['bowler'] = bowler_encoder.fit_transform(X['bowler'])"
   ]
  },
  {
   "cell_type": "code",
   "execution_count": 49,
   "id": "c7503153-8b1f-4668-b3c3-356d1cd63f41",
   "metadata": {},
   "outputs": [],
   "source": [
    "# Train test Split \n",
    "from sklearn.model_selection import train_test_split\n",
    "X_train, X_test, y_train, y_test = train_test_split(X, y, test_size=0.3, random_state=42)"
   ]
  },
  {
   "cell_type": "code",
   "execution_count": 51,
   "id": "eaf27eca-8adf-4e4d-9eed-64ceda2bc130",
   "metadata": {},
   "outputs": [],
   "source": [
    "from sklearn.preprocessing import MinMaxScaler\n",
    "\n",
    "scaler = MinMaxScaler()\n",
    "\n",
    "# Fit the scaler on the training data and transform both training and testing data\n",
    "X_train_scaled = scaler.fit_transform(X_train)\n",
    "X_test_scaled = scaler.transform(X_test)"
   ]
  },
  {
   "cell_type": "code",
   "execution_count": 53,
   "id": "99896962-b72e-410e-81ad-f6cdbaadb1f1",
   "metadata": {},
   "outputs": [],
   "source": [
    "# Define the neural network model\n",
    "model = keras.Sequential([\n",
    "    keras.layers.Input( shape=(X_train_scaled.shape[1],)),  # Input layer\n",
    "    keras.layers.Dense(512, activation='relu'),  # Hidden layer with 512 units and ReLU activation\n",
    "    keras.layers.Dense(216, activation='relu'),  # Hidden layer with 216 units and ReLU activation\n",
    "    keras.layers.Dense(1, activation='linear')  # Output layer with linear activation for regression\n",
    "])\n",
    "\n",
    "# Compile the model with Huber loss\n",
    "huber_loss = tf.keras.losses.Huber(delta=1.0)  # You can adjust the 'delta' parameter as needed\n",
    "model.compile(optimizer='adam', loss=huber_loss)  # Use Huber loss for regression"
   ]
  },
  {
   "cell_type": "code",
   "execution_count": 55,
   "id": "3bfa6239-68cf-473f-bf44-4d8c2dd599b9",
   "metadata": {},
   "outputs": [
    {
     "name": "stdout",
     "output_type": "stream",
     "text": [
      "Epoch 1/50\n",
      "\u001b[1m832/832\u001b[0m \u001b[32m━━━━━━━━━━━━━━━━━━━━\u001b[0m\u001b[37m\u001b[0m \u001b[1m5s\u001b[0m 4ms/step - loss: 55.1140 - val_loss: 22.8789\n",
      "Epoch 2/50\n",
      "\u001b[1m832/832\u001b[0m \u001b[32m━━━━━━━━━━━━━━━━━━━━\u001b[0m\u001b[37m\u001b[0m \u001b[1m4s\u001b[0m 4ms/step - loss: 22.5229 - val_loss: 21.9890\n",
      "Epoch 3/50\n",
      "\u001b[1m832/832\u001b[0m \u001b[32m━━━━━━━━━━━━━━━━━━━━\u001b[0m\u001b[37m\u001b[0m \u001b[1m4s\u001b[0m 4ms/step - loss: 22.3508 - val_loss: 21.9943\n",
      "Epoch 4/50\n",
      "\u001b[1m832/832\u001b[0m \u001b[32m━━━━━━━━━━━━━━━━━━━━\u001b[0m\u001b[37m\u001b[0m \u001b[1m3s\u001b[0m 4ms/step - loss: 22.0565 - val_loss: 22.2557\n",
      "Epoch 5/50\n",
      "\u001b[1m832/832\u001b[0m \u001b[32m━━━━━━━━━━━━━━━━━━━━\u001b[0m\u001b[37m\u001b[0m \u001b[1m3s\u001b[0m 4ms/step - loss: 22.2065 - val_loss: 21.9202\n",
      "Epoch 6/50\n",
      "\u001b[1m832/832\u001b[0m \u001b[32m━━━━━━━━━━━━━━━━━━━━\u001b[0m\u001b[37m\u001b[0m \u001b[1m3s\u001b[0m 4ms/step - loss: 22.1696 - val_loss: 22.4038\n",
      "Epoch 7/50\n",
      "\u001b[1m832/832\u001b[0m \u001b[32m━━━━━━━━━━━━━━━━━━━━\u001b[0m\u001b[37m\u001b[0m \u001b[1m4s\u001b[0m 4ms/step - loss: 22.2059 - val_loss: 22.2035\n",
      "Epoch 8/50\n",
      "\u001b[1m832/832\u001b[0m \u001b[32m━━━━━━━━━━━━━━━━━━━━\u001b[0m\u001b[37m\u001b[0m \u001b[1m3s\u001b[0m 4ms/step - loss: 22.1702 - val_loss: 22.0358\n",
      "Epoch 9/50\n",
      "\u001b[1m832/832\u001b[0m \u001b[32m━━━━━━━━━━━━━━━━━━━━\u001b[0m\u001b[37m\u001b[0m \u001b[1m3s\u001b[0m 4ms/step - loss: 22.0820 - val_loss: 22.3358\n",
      "Epoch 10/50\n",
      "\u001b[1m832/832\u001b[0m \u001b[32m━━━━━━━━━━━━━━━━━━━━\u001b[0m\u001b[37m\u001b[0m \u001b[1m3s\u001b[0m 4ms/step - loss: 22.2475 - val_loss: 22.1115\n",
      "Epoch 11/50\n",
      "\u001b[1m832/832\u001b[0m \u001b[32m━━━━━━━━━━━━━━━━━━━━\u001b[0m\u001b[37m\u001b[0m \u001b[1m3s\u001b[0m 4ms/step - loss: 22.1367 - val_loss: 21.7868\n",
      "Epoch 12/50\n",
      "\u001b[1m832/832\u001b[0m \u001b[32m━━━━━━━━━━━━━━━━━━━━\u001b[0m\u001b[37m\u001b[0m \u001b[1m4s\u001b[0m 5ms/step - loss: 21.9360 - val_loss: 22.0892\n",
      "Epoch 13/50\n",
      "\u001b[1m832/832\u001b[0m \u001b[32m━━━━━━━━━━━━━━━━━━━━\u001b[0m\u001b[37m\u001b[0m \u001b[1m3s\u001b[0m 4ms/step - loss: 22.0447 - val_loss: 21.7446\n",
      "Epoch 14/50\n",
      "\u001b[1m832/832\u001b[0m \u001b[32m━━━━━━━━━━━━━━━━━━━━\u001b[0m\u001b[37m\u001b[0m \u001b[1m3s\u001b[0m 4ms/step - loss: 22.1903 - val_loss: 21.7998\n",
      "Epoch 15/50\n",
      "\u001b[1m832/832\u001b[0m \u001b[32m━━━━━━━━━━━━━━━━━━━━\u001b[0m\u001b[37m\u001b[0m \u001b[1m3s\u001b[0m 4ms/step - loss: 22.1770 - val_loss: 22.3695\n",
      "Epoch 16/50\n",
      "\u001b[1m832/832\u001b[0m \u001b[32m━━━━━━━━━━━━━━━━━━━━\u001b[0m\u001b[37m\u001b[0m \u001b[1m3s\u001b[0m 4ms/step - loss: 21.9704 - val_loss: 22.1000\n",
      "Epoch 17/50\n",
      "\u001b[1m832/832\u001b[0m \u001b[32m━━━━━━━━━━━━━━━━━━━━\u001b[0m\u001b[37m\u001b[0m \u001b[1m4s\u001b[0m 4ms/step - loss: 21.9970 - val_loss: 21.7736\n",
      "Epoch 18/50\n",
      "\u001b[1m832/832\u001b[0m \u001b[32m━━━━━━━━━━━━━━━━━━━━\u001b[0m\u001b[37m\u001b[0m \u001b[1m3s\u001b[0m 4ms/step - loss: 21.9630 - val_loss: 21.6670\n",
      "Epoch 19/50\n",
      "\u001b[1m832/832\u001b[0m \u001b[32m━━━━━━━━━━━━━━━━━━━━\u001b[0m\u001b[37m\u001b[0m \u001b[1m4s\u001b[0m 4ms/step - loss: 21.9420 - val_loss: 21.7767\n",
      "Epoch 20/50\n",
      "\u001b[1m832/832\u001b[0m \u001b[32m━━━━━━━━━━━━━━━━━━━━\u001b[0m\u001b[37m\u001b[0m \u001b[1m3s\u001b[0m 4ms/step - loss: 21.9008 - val_loss: 21.6060\n",
      "Epoch 21/50\n",
      "\u001b[1m832/832\u001b[0m \u001b[32m━━━━━━━━━━━━━━━━━━━━\u001b[0m\u001b[37m\u001b[0m \u001b[1m4s\u001b[0m 4ms/step - loss: 21.7942 - val_loss: 21.7111\n",
      "Epoch 22/50\n",
      "\u001b[1m832/832\u001b[0m \u001b[32m━━━━━━━━━━━━━━━━━━━━\u001b[0m\u001b[37m\u001b[0m \u001b[1m3s\u001b[0m 4ms/step - loss: 21.8240 - val_loss: 21.5599\n",
      "Epoch 23/50\n",
      "\u001b[1m832/832\u001b[0m \u001b[32m━━━━━━━━━━━━━━━━━━━━\u001b[0m\u001b[37m\u001b[0m \u001b[1m3s\u001b[0m 4ms/step - loss: 21.7049 - val_loss: 21.4414\n",
      "Epoch 24/50\n",
      "\u001b[1m832/832\u001b[0m \u001b[32m━━━━━━━━━━━━━━━━━━━━\u001b[0m\u001b[37m\u001b[0m \u001b[1m3s\u001b[0m 4ms/step - loss: 21.6412 - val_loss: 21.3712\n",
      "Epoch 25/50\n",
      "\u001b[1m832/832\u001b[0m \u001b[32m━━━━━━━━━━━━━━━━━━━━\u001b[0m\u001b[37m\u001b[0m \u001b[1m3s\u001b[0m 4ms/step - loss: 21.5349 - val_loss: 21.3322\n",
      "Epoch 26/50\n",
      "\u001b[1m832/832\u001b[0m \u001b[32m━━━━━━━━━━━━━━━━━━━━\u001b[0m\u001b[37m\u001b[0m \u001b[1m6s\u001b[0m 5ms/step - loss: 21.7136 - val_loss: 21.5025\n",
      "Epoch 27/50\n",
      "\u001b[1m832/832\u001b[0m \u001b[32m━━━━━━━━━━━━━━━━━━━━\u001b[0m\u001b[37m\u001b[0m \u001b[1m3s\u001b[0m 4ms/step - loss: 21.5200 - val_loss: 21.2381\n",
      "Epoch 28/50\n",
      "\u001b[1m832/832\u001b[0m \u001b[32m━━━━━━━━━━━━━━━━━━━━\u001b[0m\u001b[37m\u001b[0m \u001b[1m3s\u001b[0m 4ms/step - loss: 21.7020 - val_loss: 21.1299\n",
      "Epoch 29/50\n",
      "\u001b[1m832/832\u001b[0m \u001b[32m━━━━━━━━━━━━━━━━━━━━\u001b[0m\u001b[37m\u001b[0m \u001b[1m3s\u001b[0m 4ms/step - loss: 21.5407 - val_loss: 21.2830\n",
      "Epoch 30/50\n",
      "\u001b[1m832/832\u001b[0m \u001b[32m━━━━━━━━━━━━━━━━━━━━\u001b[0m\u001b[37m\u001b[0m \u001b[1m3s\u001b[0m 4ms/step - loss: 21.2927 - val_loss: 21.1259\n",
      "Epoch 31/50\n",
      "\u001b[1m832/832\u001b[0m \u001b[32m━━━━━━━━━━━━━━━━━━━━\u001b[0m\u001b[37m\u001b[0m \u001b[1m3s\u001b[0m 4ms/step - loss: 21.2370 - val_loss: 21.1356\n",
      "Epoch 32/50\n",
      "\u001b[1m832/832\u001b[0m \u001b[32m━━━━━━━━━━━━━━━━━━━━\u001b[0m\u001b[37m\u001b[0m \u001b[1m3s\u001b[0m 4ms/step - loss: 21.0858 - val_loss: 21.0348\n",
      "Epoch 33/50\n",
      "\u001b[1m832/832\u001b[0m \u001b[32m━━━━━━━━━━━━━━━━━━━━\u001b[0m\u001b[37m\u001b[0m \u001b[1m3s\u001b[0m 4ms/step - loss: 21.2215 - val_loss: 21.3619\n",
      "Epoch 34/50\n",
      "\u001b[1m832/832\u001b[0m \u001b[32m━━━━━━━━━━━━━━━━━━━━\u001b[0m\u001b[37m\u001b[0m \u001b[1m3s\u001b[0m 4ms/step - loss: 21.2290 - val_loss: 21.0386\n",
      "Epoch 35/50\n",
      "\u001b[1m832/832\u001b[0m \u001b[32m━━━━━━━━━━━━━━━━━━━━\u001b[0m\u001b[37m\u001b[0m \u001b[1m4s\u001b[0m 4ms/step - loss: 21.1427 - val_loss: 20.8204\n",
      "Epoch 36/50\n",
      "\u001b[1m832/832\u001b[0m \u001b[32m━━━━━━━━━━━━━━━━━━━━\u001b[0m\u001b[37m\u001b[0m \u001b[1m3s\u001b[0m 4ms/step - loss: 20.9834 - val_loss: 20.7449\n",
      "Epoch 37/50\n",
      "\u001b[1m832/832\u001b[0m \u001b[32m━━━━━━━━━━━━━━━━━━━━\u001b[0m\u001b[37m\u001b[0m \u001b[1m3s\u001b[0m 4ms/step - loss: 20.8015 - val_loss: 20.5174\n",
      "Epoch 38/50\n",
      "\u001b[1m832/832\u001b[0m \u001b[32m━━━━━━━━━━━━━━━━━━━━\u001b[0m\u001b[37m\u001b[0m \u001b[1m3s\u001b[0m 4ms/step - loss: 20.8241 - val_loss: 21.0684\n",
      "Epoch 39/50\n",
      "\u001b[1m832/832\u001b[0m \u001b[32m━━━━━━━━━━━━━━━━━━━━\u001b[0m\u001b[37m\u001b[0m \u001b[1m3s\u001b[0m 4ms/step - loss: 20.7342 - val_loss: 20.5787\n",
      "Epoch 40/50\n",
      "\u001b[1m832/832\u001b[0m \u001b[32m━━━━━━━━━━━━━━━━━━━━\u001b[0m\u001b[37m\u001b[0m \u001b[1m4s\u001b[0m 4ms/step - loss: 20.7318 - val_loss: 20.4466\n",
      "Epoch 41/50\n",
      "\u001b[1m832/832\u001b[0m \u001b[32m━━━━━━━━━━━━━━━━━━━━\u001b[0m\u001b[37m\u001b[0m \u001b[1m4s\u001b[0m 4ms/step - loss: 20.3891 - val_loss: 20.2263\n",
      "Epoch 42/50\n",
      "\u001b[1m832/832\u001b[0m \u001b[32m━━━━━━━━━━━━━━━━━━━━\u001b[0m\u001b[37m\u001b[0m \u001b[1m3s\u001b[0m 4ms/step - loss: 20.4263 - val_loss: 20.0588\n",
      "Epoch 43/50\n",
      "\u001b[1m832/832\u001b[0m \u001b[32m━━━━━━━━━━━━━━━━━━━━\u001b[0m\u001b[37m\u001b[0m \u001b[1m3s\u001b[0m 4ms/step - loss: 20.2732 - val_loss: 20.2620\n",
      "Epoch 44/50\n",
      "\u001b[1m832/832\u001b[0m \u001b[32m━━━━━━━━━━━━━━━━━━━━\u001b[0m\u001b[37m\u001b[0m \u001b[1m3s\u001b[0m 4ms/step - loss: 19.9620 - val_loss: 19.7975\n",
      "Epoch 45/50\n",
      "\u001b[1m832/832\u001b[0m \u001b[32m━━━━━━━━━━━━━━━━━━━━\u001b[0m\u001b[37m\u001b[0m \u001b[1m4s\u001b[0m 4ms/step - loss: 19.8738 - val_loss: 19.8758\n",
      "Epoch 46/50\n",
      "\u001b[1m832/832\u001b[0m \u001b[32m━━━━━━━━━━━━━━━━━━━━\u001b[0m\u001b[37m\u001b[0m \u001b[1m3s\u001b[0m 4ms/step - loss: 19.8727 - val_loss: 19.5828\n",
      "Epoch 47/50\n",
      "\u001b[1m832/832\u001b[0m \u001b[32m━━━━━━━━━━━━━━━━━━━━\u001b[0m\u001b[37m\u001b[0m \u001b[1m3s\u001b[0m 4ms/step - loss: 19.7802 - val_loss: 19.4716\n",
      "Epoch 48/50\n",
      "\u001b[1m832/832\u001b[0m \u001b[32m━━━━━━━━━━━━━━━━━━━━\u001b[0m\u001b[37m\u001b[0m \u001b[1m3s\u001b[0m 4ms/step - loss: 19.6389 - val_loss: 19.5236\n",
      "Epoch 49/50\n",
      "\u001b[1m832/832\u001b[0m \u001b[32m━━━━━━━━━━━━━━━━━━━━\u001b[0m\u001b[37m\u001b[0m \u001b[1m4s\u001b[0m 4ms/step - loss: 19.3969 - val_loss: 19.1750\n",
      "Epoch 50/50\n",
      "\u001b[1m832/832\u001b[0m \u001b[32m━━━━━━━━━━━━━━━━━━━━\u001b[0m\u001b[37m\u001b[0m \u001b[1m4s\u001b[0m 5ms/step - loss: 19.3742 - val_loss: 19.1973\n"
     ]
    },
    {
     "data": {
      "text/plain": [
       "<keras.src.callbacks.history.History at 0x1aaa09566d0>"
      ]
     },
     "execution_count": 55,
     "metadata": {},
     "output_type": "execute_result"
    }
   ],
   "source": [
    "# Train the model\n",
    "model.fit(X_train_scaled, y_train, epochs=50, batch_size=64, validation_data=(X_test_scaled, y_test))"
   ]
  },
  {
   "cell_type": "code",
   "execution_count": 57,
   "id": "91dfe327-98fb-4264-84de-9ae147bd132a",
   "metadata": {},
   "outputs": [
    {
     "data": {
      "text/plain": [
       "<Axes: >"
      ]
     },
     "execution_count": 57,
     "metadata": {},
     "output_type": "execute_result"
    },
    {
     "data": {
      "image/png": "[encoded data removed]",
      "text/plain": [
       "<Figure size 640x480 with 1 Axes>"
      ]
     },
     "metadata": {},
     "output_type": "display_data"
    }
   ],
   "source": [
    "model_losses = pd.DataFrame(model.history.history)\n",
    "model_losses.plot()"
   ]
  },
  {
   "cell_type": "code",
   "execution_count": 59,
   "id": "dbeb1c09-ac16-4c42-8c2c-c8a635fddd33",
   "metadata": {},
   "outputs": [
    {
     "name": "stdout",
     "output_type": "stream",
     "text": [
      "\u001b[1m713/713\u001b[0m \u001b[32m━━━━━━━━━━━━━━━━━━━━\u001b[0m\u001b[37m\u001b[0m \u001b[1m1s\u001b[0m 2ms/step\n"
     ]
    },
    {
     "data": {
      "text/plain": [
       "19.68993377685547"
      ]
     },
     "execution_count": 59,
     "metadata": {},
     "output_type": "execute_result"
    }
   ],
   "source": [
    "# Make predictions\n",
    "predictions = model.predict(X_test_scaled)\n",
    "\n",
    "from sklearn.metrics import mean_absolute_error,mean_squared_error\n",
    "mean_absolute_error(y_test,predictions)"
   ]
  },
  {
   "cell_type": "code",
   "execution_count": 61,
   "id": "b99d1e8b-19e6-43e9-98ec-ea033af62f87",
   "metadata": {},
   "outputs": [],
   "source": [
    "import ipywidgets as widgets\n",
    "from IPython.display import display, clear_output\n",
    "\n",
    "import warnings\n",
    "warnings.filterwarnings(\"ignore\")\n",
    "\n",
    "venue = widgets.Dropdown(options=df['venue'].unique().tolist(),description='Select Venue:')\n",
    "batting_team = widgets.Dropdown(options =df['bat_team'].unique().tolist(),  description='Select Batting Team:')\n",
    "bowling_team = widgets.Dropdown(options=df['bowl_team'].unique().tolist(),  description='Select Bowling Team:')\n",
    "striker = widgets.Dropdown(options=df['batsman'].unique().tolist(), description='Select Striker:')\n",
    "bowler = widgets.Dropdown(options=df['bowler'].unique().tolist(), description='Select Bowler:')\n",
    "\n",
    "predict_button = widgets.Button(description=\"Predict Score\")\n",
    "\n",
    "def predict_score(b):\n",
    "    with output:\n",
    "        clear_output()  # Clear the previous output\n",
    "        \n",
    "\n",
    "        # Decode the encoded values back to their original values\n",
    "        decoded_venue = venue_encoder.transform([venue.value])\n",
    "        decoded_batting_team = batting_team_encoder.transform([batting_team.value])\n",
    "        decoded_bowling_team = bowling_team_encoder.transform([bowling_team.value])\n",
    "        decoded_striker = striker_encoder.transform([striker.value])\n",
    "        decoded_bowler = bowler_encoder.transform([bowler.value])\n",
    "\n",
    "\n",
    "        input = np.array([decoded_venue,  decoded_batting_team, decoded_bowling_team,decoded_striker, decoded_bowler])\n",
    "        input = input.reshape(1,5)\n",
    "        input = scaler.transform(input)\n",
    "        #print(input)\n",
    "        predicted_score = model.predict(input)\n",
    "        predicted_score = int(predicted_score[0,0])\n",
    "\n",
    "        print(predicted_score)"
   ]
  },
  {
   "cell_type": "code",
   "execution_count": 63,
   "id": "35df5418-dcc7-4b41-a0b5-cf4125ec515c",
   "metadata": {},
   "outputs": [
    {
     "data": {
      "application/vnd.jupyter.widget-view+json": {
       "model_id": "3e876ff3b472453ba62f2dd00ed9338f",
       "version_major": 2,
       "version_minor": 0
      },
      "text/plain": [
       "Dropdown(description='Select Venue:', options=('M Chinnaswamy Stadium', 'Punjab Cricket Association Stadium, M…"
      ]
     },
     "metadata": {},
     "output_type": "display_data"
    },
    {
     "data": {
      "application/vnd.jupyter.widget-view+json": {
       "model_id": "c200c923c12247e49500e84b6145841d",
       "version_major": 2,
       "version_minor": 0
      },
      "text/plain": [
       "Dropdown(description='Select Batting Team:', options=('Kolkata Knight Riders', 'Chennai Super Kings', 'Rajasth…"
      ]
     },
     "metadata": {},
     "output_type": "display_data"
    },
    {
     "data": {
      "application/vnd.jupyter.widget-view+json": {
       "model_id": "d3cf8de799324d0a9681c9bc3633fe8a",
       "version_major": 2,
       "version_minor": 0
      },
      "text/plain": [
       "Dropdown(description='Select Bowling Team:', options=('Royal Challengers Bangalore', 'Kings XI Punjab', 'Delhi…"
      ]
     },
     "metadata": {},
     "output_type": "display_data"
    },
    {
     "data": {
      "application/vnd.jupyter.widget-view+json": {
       "model_id": "4f7b5e22ac1a444c8834074970adf3a0",
       "version_major": 2,
       "version_minor": 0
      },
      "text/plain": [
       "Dropdown(description='Select Striker:', options=('SC Ganguly', 'BB McCullum', 'RT Ponting', 'DJ Hussey', 'Moha…"
      ]
     },
     "metadata": {},
     "output_type": "display_data"
    },
    {
     "data": {
      "application/vnd.jupyter.widget-view+json": {
       "model_id": "2610d8670346449ebe3e32eaea942a44",
       "version_major": 2,
       "version_minor": 0
      },
      "text/plain": [
       "Dropdown(description='Select Bowler:', options=('P Kumar', 'Z Khan', 'AA Noffke', 'JH Kallis', 'SB Joshi', 'CL…"
      ]
     },
     "metadata": {},
     "output_type": "display_data"
    },
    {
     "data": {
      "application/vnd.jupyter.widget-view+json": {
       "model_id": "d594eeab25b74524a766215b87bca5a1",
       "version_major": 2,
       "version_minor": 0
      },
      "text/plain": [
       "Button(description='Predict Score', style=ButtonStyle())"
      ]
     },
     "metadata": {},
     "output_type": "display_data"
    },
    {
     "data": {
      "application/vnd.jupyter.widget-view+json": {
       "model_id": "229f0c13c6774ac6b1bf449c98f67868",
       "version_major": 2,
       "version_minor": 0
      },
      "text/plain": [
       "Output()"
      ]
     },
     "metadata": {},
     "output_type": "display_data"
    }
   ],
   "source": [
    "predict_button.on_click(predict_score)\n",
    "output = widgets.Output()\n",
    "display(venue, batting_team, bowling_team, striker, bowler, predict_button, output)"
   ]
  },
  {
   "cell_type": "code",
   "execution_count": 29,
   "id": "99e88e90-4db8-4b74-ba54-106cdefe4d2f",
   "metadata": {},
   "outputs": [
    {
     "name": "stderr",
     "output_type": "stream",
     "text": [
      "WARNING:absl:You are saving your model as an HDF5 file via `model.save()` or `keras.saving.save_model(model)`. This file format is considered legacy. We recommend using instead the native Keras format, e.g. `model.save('my_model.keras')` or `keras.saving.save_model(model, 'my_model.keras')`. \n"
     ]
    }
   ],
   "source": [
    "from tensorflow import keras\n",
    "\n",
    "# Assuming your trained model is in a variable called `model`\n",
    "model.save('model.h5')"
   ]
  },
  {
   "cell_type": "code",
   "execution_count": 31,
   "id": "c1332fd3-60a6-4842-b901-48e0c1a27332",
   "metadata": {},
   "outputs": [
    {
     "data": {
      "text/plain": [
       "['scaler.pkl']"
      ]
     },
     "execution_count": 31,
     "metadata": {},
     "output_type": "execute_result"
    }
   ],
   "source": [
    "import joblib\n",
    "\n",
    "# Assuming your scaler is in a variable called `scaler`\n",
    "joblib.dump(scaler, 'scaler.pkl')"
   ]
  },
  {
   "cell_type": "code",
   "execution_count": 37,
   "id": "fa4e5297-c683-41f9-8d9a-f319671f502e",
   "metadata": {},
   "outputs": [
    {
     "data": {
      "text/plain": [
       "['encoders.pkl']"
      ]
     },
     "execution_count": 37,
     "metadata": {},
     "output_type": "execute_result"
    }
   ],
   "source": [
    "encoders = {\n",
    "    'venue': venue_encoder,\n",
    "    'bat_team': batting_team_encoder,\n",
    "    'bowl_team': bowling_team_encoder,\n",
    "    'batsman': striker_encoder,\n",
    "    'bowler': bowler_encoder\n",
    "}\n",
    "\n",
    "joblib.dump(encoders, 'encoders.pkl')"
   ]
  },
  {
   "cell_type": "code",
   "execution_count": 67,
   "id": "a05ae6b4-fa9a-46c8-8ac7-c173b67041ac",
   "metadata": {},
   "outputs": [
    {
     "data": {
      "text/plain": [
       "['models/encoders.pkl']"
      ]
     },
     "execution_count": 67,
     "metadata": {},
     "output_type": "execute_result"
    }
   ],
   "source": [
    "from sklearn.preprocessing import LabelEncoder\n",
    "import joblib\n",
    "\n",
    "# Example values\n",
    "venues = venues = [\n",
    "    'Wankhede Stadium',\n",
    "    'Eden Gardens',\n",
    "    'M. Chinnaswamy Stadium',\n",
    "    'MA Chidambaram Stadium',\n",
    "    'Arun Jaitley Stadium',\n",
    "    'Sawai Mansingh Stadium',\n",
    "    'Rajiv Gandhi International Cricket Stadium',\n",
    "    'Narendra Modi Stadium',\n",
    "    'Punjab Cricket Association Stadium',\n",
    "    'BRSABV Ekana Cricket Stadium',\n",
    "    'Himachal Pradesh Cricket Association Stadium',\n",
    "    'Dr. DY Patil Sports Academy',\n",
    "    'Holkar Cricket Stadium'\n",
    "]\n",
    "teams = [\n",
    "    'Mumbai Indians',\n",
    "    'Chennai Super Kings',\n",
    "    'Royal Challengers Bangalore',\n",
    "    'Kolkata Knight Riders',\n",
    "    'Rajasthan Royals',\n",
    "    'Delhi Capitals',\n",
    "    'Sunrisers Hyderabad',\n",
    "    'Punjab Kings',\n",
    "    'Lucknow Super Giants',\n",
    "    'Gujarat Titans'\n",
    "]\n",
    "\n",
    "venue_encoder = LabelEncoder()\n",
    "venue_encoder.fit(venues)\n",
    "\n",
    "batting_team_encoder = LabelEncoder()\n",
    "batting_team_encoder.fit(teams)\n",
    "\n",
    "bowling_team_encoder = LabelEncoder()\n",
    "bowling_team_encoder.fit(teams)\n",
    "\n",
    "# Save them in a dictionary\n",
    "encoders = {\n",
    "    'venue': venue_encoder,\n",
    "    'batting_team': batting_team_encoder,\n",
    "    'bowling_team': bowling_team_encoder\n",
    "}\n",
    "\n",
    "joblib.dump(encoders, 'models/encoders.pkl')"
   ]
  },
  {
   "cell_type": "code",
   "execution_count": 79,
   "id": "2e5166ed-d84d-4637-9545-f2de30b56a59",
   "metadata": {},
   "outputs": [
    {
     "data": {
      "text/plain": [
       "['models/encoders.pkl']"
      ]
     },
     "execution_count": 79,
     "metadata": {},
     "output_type": "execute_result"
    }
   ],
   "source": [
    "from sklearn.preprocessing import LabelEncoder\n",
    "import joblib\n",
    "\n",
    "# Example values\n",
    "venues = ['M Chinnaswamy Stadium', 'Punjab Cricket Association Stadium', 'Feroz Shah Kotla', 'Wankhede Stadium', 'Eden Gardens', 'Sawai Mansingh Stadium',\n",
    "           'Rajiv Gandhi International Stadium', 'MA Chidambaram Stadium', 'Dr DY Patil Sports Academy', 'Newlands', \"St George's Park\", 'Kingsmead',\n",
    "           'SuperSport Park', 'Buffalo Park', 'New Wanderers Stadium', 'De Beers Diamond Oval', 'OUTsurance Oval', 'Brabourne Stadium', \n",
    "           'Sardar Patel Stadium', 'Barabati Stadium', 'Vidarbha Cricket Association Stadium', 'Himachal Pradesh Cricket Association Stadium', \n",
    "           'Nehru Stadium', 'Holkar Cricket Stadium', 'Dr. Y.S. Rajasekhara Reddy ACA-VDCA Cricket Stadium', 'Subrata Roy Sahara Stadium', \n",
    "           'Shaheed Veer Narayan Singh International Stadium', 'JSCA International Stadium Complex, Sheikh Zayed Stadium', 'Sharjah Cricket Stadium', \n",
    "           'Dubai International Cricket Stadium', 'Maharashtra Cricket Association Stadium', 'Punjab Cricket Association IS Bindra Stadium', \n",
    "           'Saurashtra Cricket Association Stadium', 'Green Park'\n",
    "]\n",
    "\n",
    "teams = ['Mumbai Indians', 'Chennai Super Kings',' Royal Challengers Bangalore',' Kolkata Knight Riders',' Rajasthan Royals',' Delhi Capitals',\n",
    "        'Sunrisers Hyderabad', 'Punjab Kings', 'Lucknow Super Giants', 'Gujarat Titans'\n",
    "]\n",
    "\n",
    "\n",
    "players = ['SC Ganguly', 'BB McCullum', 'RT Ponting', 'DJ Hussey', 'Mohammad Hafeez', 'PA Patel', 'ML Hayden', 'MEK Hussey', 'MS Dhoni', 'SK Raina', \n",
    "           'JDP Oram', 'S Badrinath', 'T Kohli', 'YK Pathan', 'SR Watson', 'M Kaif', 'DS Lehmann', 'RA Jadeja', 'M Rawat', 'D Salunkhe', 'SK Warne', \n",
    "           'SK Trivedi', 'L Ronchi', 'ST Jayasuriya', 'DJ Thornely', 'RV Uthappa', 'PR Shah', 'AM Nayar', 'SM Pollock', 'Harbhajan Singh', 'AC Gilchrist'\n",
    "           'Y Venugopal Rao', 'VVS Laxman', 'A Symonds', 'RG Sharma', 'SB Styris', 'AS Yadav', 'SB Bangar', 'WPUJC Vaas', 'RP Singh', 'K Goel',\n",
    "           'JR Hopes', 'KC Sangakkara', 'DPMD Jayawardene', 'Yuvraj Singh',  'IK Pathan', 'S Sohal', 'B Lee', 'PP Chawla', 'WA Mota', 'RR Sarwan', \n",
    "           'S Sreesanth', 'VRV Singh', 'S Chanderpaul', 'R Dravid', 'LRPL Taylor', 'JH Kallis', 'V Kohli', 'MV Boucher', 'P Kumar', 'SB Joshi', 'Z Khan',\n",
    "           'R Vinay Kumar', 'WP Saha', 'LR Shukla', 'AB Agarkar', 'M Kartik', 'I Sharma', 'AM Rahane', 'DJ Bravo', 'MA Khote', 'G Gambhir', 'V Sehwag', \n",
    "           'S Dhawan', 'MK Tiwary', 'KD Karthik', 'R Bhatia', 'MF Maharoof', 'VY Mahesh', 'DB Das', 'HH Gibbs', 'DNT Zoysa', 'D Kalyankrishna', 'GC Smith',\n",
    "           'SA Asnodkar', 'SP Fleming', 'S Vidyut', 'JA Morkel', 'LPC Silva', 'DB Ravi Teja', 'SE Marsh', 'YV Takawale', 'SS Tiwary', 'RR Raje', \n",
    "           'Joginder Sharma', 'MS Gony', 'M Muralitharan', 'M Ntini', 'W Jaffer', 'CL White', 'DT Patil', 'A Kumble', 'DW Steyn', 'S Anirudha', 'MM Patel', \n",
    "           'AB de Villiers', 'A Chopra', 'BJ Hodge', 'T Taibu', 'PP Ojha', 'SP Goswami', 'B Akhil', 'TM Dilshan', 'A Mishra', 'J Arunkumar', \n",
    "           'Iqbal Abdulla', 'CK Kapugedera', 'LA Pomersbach', 'AB Dinda', 'SR Tendulkar', 'B Chipli', 'DR Smith', 'SD Chitnis', 'TM Srivastava', \n",
    "           'MK Pandey', 'RR Powar', 'JP Duminy', 'JD Ryder',  'KP Pietersen', 'CH Gayle', 'MC Henriques', 'A Flintoff', 'FH Edwards', 'PC Valthaty', \n",
    "           'RJ Quiney', 'AD Mascarenhas', 'AS Raut', 'Pankaj Singh', 'RS Bopara', 'DL Vettori', 'M Manhas', 'PJ Sangwan', 'MN van Wyk', 'AA Bilakhia', \n",
    "           'TL Suman', 'GR Napier', 'R Bishnoi', 'RE van der Merwe', 'KP Appanna', 'M Vijay', 'SB Jakati', 'L Balaji', 'NV Ojha', 'LA Carseldine', \n",
    "           'RJ Harris', 'D du Preez', 'DS Kulkarni', 'SM Harwood', 'Yashpal Singh', 'AN Ghosh', 'AD Mathews', 'SM Katich', 'DA Warner', 'J Botha', \n",
    "           'A Nehra', 'Mashrafe Mortaza', 'GJ Bailey', 'AB McDonald', 'Y Nagar', 'Niraj Patel', 'T Henderson', 'A Singh', 'R Ashwin', 'T Thushara', \n",
    "           'Mohammad Ashraful', 'CA Pujara', 'OA Shah', 'AP Tare', 'AT Rayudu', 'R Sathish', 'R McLaren', 'MS Bisla', 'YA Abdulla', 'EJG Morgan', \n",
    "           'AA Jhunjhunwala', 'P Dogra', 'A Uniyal', 'KA Pollard', 'MJ Lumb', 'DR Martyn', 'S Narwal', 'M Morkel', 'Anirudh Singh', 'Jaskaran Singh', \n",
    "           'FY Fazal', 'AC Voges', 'MD Mishra', 'J Theron', 'R Sharma', 'Mandeep Singh', 'KM Jadhav', 'SW Tait', 'PD Collingwood', 'VS Malik', \n",
    "           'SJ Srivastava', 'AP Dole', 'Bipul Sharma', 'DE Bollinger', 'BAW Mendis', 'B Sumanth', 'C Madan', 'AG Paunikar', 'AJ Finch', 'MR Marsh', \n",
    "           'STR Binny', 'IR Jaggi', 'DT Christia', 'RV Gomez', 'UBT Chand', 'UT Yadav', 'Sunny Singh', 'NJ Rimmington', 'MA Agarwal', 'AUK Pathan', \n",
    "           'AL Menaria', 'DJ Jacobs', 'WD Parnell', 'TD Paine', 'SB Wagh', 'AC Thomas', 'BJ Haddin', 'NLTC Perera', 'MS Wade', 'JE Taylor', \n",
    "           'RN ten Doeschate', 'SL Malinga', 'AG Murtaza', 'TR Birt', 'Harpreet Singh', 'NL McCullum', 'DH Yagnik', 'AC Blizzard', 'M Klinger', \n",
    "           'I Malhotra', 'A Mithun', 'P Parameswaran', 'AA Chavan', 'ND Doshi', 'CJ Ferguson', 'B Kumar', 'S Rana', 'JEC Franklin', 'Shakib Al Hasan', \n",
    "           'F du Plessis', 'SPD Smith', 'MN Samuels', 'KK Cooper', 'HV Patel', 'Ankit Sharma', 'RE Levi', 'RR Bhatkal', 'Harmeet Singh', 'BA Bhatt', \n",
    "           'CJ McKay', 'DJ Harris', 'N Saini', 'DA Miller', 'Azhar Mahmood', 'A Ashish Reddy', 'V Pratap Singh', 'BB Samantray', 'RJ Peterson', 'S Nadeem',\n",
    "           'VR Aaron', 'MJ Clarke', 'AP Majumdar', 'Gurkeerat Singh', 'P Awana', 'SP Narine', 'A Chandila', 'PA Reddy', 'MC Juneja', 'AD Russell', \n",
    "           'KK Nair', 'KB Arun Karthik', 'GH Vihari', 'MDKJ Perera', 'R Shukla', 'JD Unadkat', 'M Vohra', 'JP Faulkner', 'R Rampaul', 'BJ Rohrer', \n",
    "           'Q de Kock', 'KV Sharma ', 'SMSM Senanayake', 'LJ Wright', 'X Thalaivan Sargunam', 'DJG Sammy', 'MG Johnson', 'A Mukund', 'SV Samson', \n",
    "           'BMAJ Mendis', 'KL Rahul', 'CM Gautam', 'KW Richardson', 'Parvez Rasool', 'GJ Maxwell', 'R Dhawan', 'SA Yadav', 'CJ Anderson', 'JJ Bumrah', \n",
    "           'CA Lynn', 'MA Starc', 'AR Patel', 'Sandeep Sharma', 'BR Dunk', 'Shivam Sharma', 'LMP Simmons', 'VH Zol', 'BCJ Cutting', 'Mohammed Shami', \n",
    "           'BE Hendricks', 'S Gopal', 'M de Lange', 'RR Rossouw', 'JO Holder', 'JDS Neesham', 'Imran Tahir', 'MM Sharma', 'DJ Hooda', 'CH Morris', \n",
    "           'SS Iyer', 'SA Abbott', 'AN Ahmed', 'YS Chahal', 'J Suchith', 'P Negi', 'RG More', 'Anureet Singh', 'HH Pandya', 'NM Coulter-Nile', 'PV Tambe', \n",
    "           'MJ McClenaghan', 'DJ Muthuswami', 'SN Thakur', 'SN Khan', 'D Wiese', 'S Aravind', 'JC Buttler', 'CR Brathwaite', 'MP Stoinis', 'C Munro', \n",
    "           'P Sahu', 'KH Pandya', 'TG Southee', 'MJ Guptill', 'KJ Abbott', 'TM Head', 'AD Nath', 'NS Naik', 'Ishan Kishan', 'SW Billings', 'RR Pant', \n",
    "           'KS Williamson', 'KC Cariappa', 'PSP Handscomb', 'Sachin Baby', 'J Yadav', 'UT Khawaja', 'HM Amla', 'BB Sran', 'N Rana', 'F Behardien', \n",
    "           'R Dwivedi', 'J Roy', 'BA Stokes', 'Vishnu Vinod', 'TS Mills', 'Basil Thampi', 'CR Woakes', 'V Shankar', 'Rashid Khan', 'RA Tripathi', \n",
    "           'RD Chahar', 'LH Ferguson', 'C de Grandhomme', 'PJ Cummins', 'Mohammad Nabi', 'Kuldeep Yadav', 'Washington Sundar', 'S Badree', 'A Choudhary',\n",
    "           'AR Bawne', 'AJ Tye', 'Ankit Soni', 'K Rabada', 'AF Milne', 'SP Jackson', 'Swapnil Singh', 'R Tewatia', 'AS Rajpoot'\n",
    "]\n",
    "\n",
    "\n",
    "venue_encoder = LabelEncoder()\n",
    "venue_encoder.fit(venues)\n",
    "\n",
    "batting_team_encoder = LabelEncoder()\n",
    "batting_team_encoder.fit(teams)\n",
    "\n",
    "bowling_team_encoder = LabelEncoder()\n",
    "bowling_team_encoder.fit(teams)\n",
    "\n",
    "striker_encoder = LabelEncoder()\n",
    "striker_encoder.fit(players)\n",
    "\n",
    "bowler_encoder = LabelEncoder()\n",
    "bowler_encoder.fit(players)\n",
    "\n",
    "encoders = {\n",
    "    'venue': venue_encoder,\n",
    "    'batting_team': batting_team_encoder,\n",
    "    'bowling_team': bowling_team_encoder,\n",
    "    'striker': striker_encoder,\n",
    "    'bowler': bowler_encoder\n",
    "}\n",
    "\n",
    "joblib.dump(encoders, 'models/encoders.pkl')"
   ]
  },
  {
   "cell_type": "code",
   "execution_count": null,
   "id": "000ec20f-6219-4b1f-93f5-85335a02f7d7",
   "metadata": {},
   "outputs": [],
   "source": []
  },
  {
   "cell_type": "code",
   "execution_count": null,
   "id": "1355f983-2278-4150-ba18-b1d0bd7882f9",
   "metadata": {},
   "outputs": [],
   "source": []
  },
  {
   "cell_type": "code",
   "execution_count": null,
   "id": "efa59475-bf82-429d-9da5-b3116690879f",
   "metadata": {},
   "outputs": [],
   "source": []
  }
 ],
 "metadata": {
  "kernelspec": {
   "display_name": "Python [conda env:base] *",
   "language": "python",
   "name": "conda-base-py"
  },
  "language_info": {
   "codemirror_mode": {
    "name": "ipython",
    "version": 3
   },
   "file_extension": ".py",
   "mimetype": "text/x-python",
   "name": "python",
   "nbconvert_exporter": "python",
   "pygments_lexer": "ipython3",
   "version": "3.11.5"
  }
 },
 "nbformat": 4,
 "nbformat_minor": 5
}
